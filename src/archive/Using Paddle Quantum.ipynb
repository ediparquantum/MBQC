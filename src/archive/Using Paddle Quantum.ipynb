{
 "cells": [
  {
   "cell_type": "markdown",
   "id": "01e1cf35",
   "metadata": {},
   "source": [
    "# Using Paddle Quantum\n",
    "\n",
    "In this notebook, we give an example of using the Paddle Quantum framework for simulating MBQC patterns. \n",
    "\n",
    "\n",
    "An introduction to Paddle Quantum's MBQC simulator, along with the relevant documentation, can be found [here](https://qml.baidu.com/tutorials/measurement-based-quantum-computation/mbqc-quick-start-guide.html). "
   ]
  },
  {
   "cell_type": "code",
   "execution_count": 1,
   "id": "88ec4966",
   "metadata": {},
   "outputs": [
    {
     "name": "stderr",
     "output_type": "stream",
     "text": [
      "C:\\Users\\joeh1\\anaconda3\\lib\\site-packages\\paddle\\tensor\\creation.py:125: DeprecationWarning: `np.object` is a deprecated alias for the builtin `object`. To silence this warning, use `object` by itself. Doing this will not modify any behavior and is safe. \n",
      "Deprecated in NumPy 1.20; for more details and guidance: https://numpy.org/devdocs/release/1.20.0-notes.html#deprecations\n",
      "  if data.dtype == np.object:\n"
     ]
    }
   ],
   "source": [
    "from paddle_quantum.mbqc.simulator import MBQC\n",
    "from paddle_quantum.mbqc.qobject import State\n",
    "from paddle_quantum.mbqc.utils import basis\n",
    "from paddle import to_tensor\n",
    "import numpy as np\n",
    "import random as rand"
   ]
  },
  {
   "cell_type": "markdown",
   "id": "146adfcc",
   "metadata": {},
   "source": [
    "For our purposes we will consider the implementation of the 10-qubit 'brick' state: \n",
    "\n",
    "<img src=\"brick.png\" width=350px>\n",
    "\n",
    "where numbers simply label the qubits. For our simulations we encode this graph in the following way:"
   ]
  },
  {
   "cell_type": "code",
   "execution_count": 2,
   "id": "f89f78e6",
   "metadata": {},
   "outputs": [],
   "source": [
    "# List of vertices as strings\n",
    "V = [str(v) for v in range(10)]\n",
    "\n",
    "# List of edges as pairs of strings\n",
    "E = [('0','2'),('1','3'),('2','4'),('3','5'),('4','5'),('4','6'),('5','7'),\n",
    "    ('6','8'),('7','9'),('8','9')]\n",
    "\n",
    "# Define graph\n",
    "G = [V,E]"
   ]
  },
  {
   "cell_type": "markdown",
   "id": "f70b3526",
   "metadata": {},
   "source": [
    "We also need to define a list of measurement angles. In this case we opt to implement the 10-qubit controlled-$X$ gate: \n",
    "<img src=\"brick-cnot.png\" width=350px>\n",
    "Each angle $\\theta$ is with respect to the basis $M_{XY}(\\theta) = \\{ |+_\\theta\\rangle, |-_\\theta\\rangle \\}$ where $|\\pm_\\theta\\rangle = \\frac{1}{\\sqrt{2}}\\left( |0\\rangle \\pm e^{i\\theta} |1\\rangle\\right)$. Hence we define the list of angles as follows:"
   ]
  },
  {
   "cell_type": "code",
   "execution_count": 3,
   "id": "e1a4ebda",
   "metadata": {},
   "outputs": [],
   "source": [
    "pi = np.pi\n",
    "mmt_angles = [0,0,0,pi/2,pi/2,0,0,-pi/2,0,0]"
   ]
  },
  {
   "cell_type": "markdown",
   "id": "6a170856",
   "metadata": {},
   "source": [
    "To show this works, we first simulate the pattern without applying the UBQC protocol. We start by defining the input state of the pattern to be $|11\\rangle$, so that the output state should be $|10\\rangle$. The formatting is again a bit awkward:"
   ]
  },
  {
   "cell_type": "code",
   "execution_count": 4,
   "id": "1efe4af0",
   "metadata": {},
   "outputs": [],
   "source": [
    "# i_vs = [rand.choice([0,1]) for i in range(2)]\n",
    "# client_input_state = [[],[]]\n",
    "# for i in range(2):\n",
    "#     if i_vs[i] == 0:\n",
    "#         client_input_state[i] = [0,1]\n",
    "#     else:\n",
    "#         client_input_state[i] = [1,0]\n",
    "# input_state = np.kron(client_input_state[0], client_input_state[1]) \n",
    "input_state = [0,0,0,1]\n",
    "input_state = to_tensor([[x] for x in input_state], dtype='complex128')\n",
    "input_state = State(input_state, ['0','1'])"
   ]
  },
  {
   "cell_type": "markdown",
   "id": "1b88c01b",
   "metadata": {},
   "source": [
    "We then initialise the MBQC class, setting the graph state and input state. "
   ]
  },
  {
   "cell_type": "code",
   "execution_count": 5,
   "id": "3445c2bb",
   "metadata": {},
   "outputs": [],
   "source": [
    "mbqc = MBQC()\n",
    "mbqc.set_graph(G)\n",
    "mbqc.set_input_state(input_state)"
   ]
  },
  {
   "cell_type": "markdown",
   "id": "af59ffa2",
   "metadata": {},
   "source": [
    "All that's left is the measurements and angle corrections. We first define the sets $s_X$ and $s_Z$ for each vertex, as standard in MBQC. "
   ]
  },
  {
   "cell_type": "code",
   "execution_count": 6,
   "id": "8d95fb64",
   "metadata": {},
   "outputs": [],
   "source": [
    "sx_sets = [[],[],[0],[1],[2],[3],[4],[5],[6],[7]]\n",
    "sz_sets = [[],[],[],[],[0,3],[1,2],[2],[3],[4,7],[5,6]]"
   ]
  },
  {
   "cell_type": "markdown",
   "id": "88cae1c2",
   "metadata": {},
   "source": [
    "We then measure each non-output vertex, first computing the measurement corrections where necessary. "
   ]
  },
  {
   "cell_type": "code",
   "execution_count": 7,
   "id": "52400f88",
   "metadata": {},
   "outputs": [],
   "source": [
    "for i in range(8):\n",
    "    # Input vertices do not have angle corrections\n",
    "    if i < 2:\n",
    "#         theta = ((-1)**(i_vs[i]))*mmt_angles[i]\n",
    "        theta = mmt_angles[i]\n",
    "    else:\n",
    "        sx = [str(x) for x in sx_sets[i]]\n",
    "        sz = [str(x) for x in sz_sets[i]]\n",
    "        sx_sum = mbqc.sum_outcomes(sx)\n",
    "        sz_sum = mbqc.sum_outcomes(sz)\n",
    "        theta = ((-1)**sx_sum) * mmt_angles[i] + sz_sum*pi\n",
    "        \n",
    "        \n",
    "    # Reformat measurement angle\n",
    "    theta = to_tensor(theta, dtype='float64')\n",
    "    mbqc.measure(str(i), basis('XY', theta))"
   ]
  },
  {
   "cell_type": "markdown",
   "id": "6c7b0616",
   "metadata": {},
   "source": [
    "Finally we perform the appropriate gate correction to the output qubits before measuring them in the $Z$-basis. "
   ]
  },
  {
   "cell_type": "code",
   "execution_count": 8,
   "id": "e05e3059",
   "metadata": {},
   "outputs": [
    {
     "data": {
      "text/plain": [
       "(1, 0)"
      ]
     },
     "execution_count": 8,
     "metadata": {},
     "output_type": "execute_result"
    }
   ],
   "source": [
    "# Gate corrections\n",
    "for i in [8,9]:\n",
    "    sx = [str(x) for x in sx_sets[i]]\n",
    "    sz = [str(x) for x in sz_sets[i]]\n",
    "    sx_sum = mbqc.sum_outcomes(sx)\n",
    "    sz_sum = mbqc.sum_outcomes(sz)\n",
    "    mbqc.correct_byproduct('Z', str(i), sz_sum)\n",
    "    mbqc.correct_byproduct('X', str(i), sx_sum)\n",
    "\n",
    "# Measure output qubits in Z basis\n",
    "for i in [8,9]:\n",
    "    zero = to_tensor(0, dtype='float64')\n",
    "    mbqc.measure(str(i), basis('YZ', zero))\n",
    "    \n",
    "# Print output measurement outcomes\n",
    "mbqc.sum_outcomes(['8']), mbqc.sum_outcomes(['9'])"
   ]
  },
  {
   "cell_type": "markdown",
   "id": "a075d6e3",
   "metadata": {},
   "source": [
    "... and we get the right result!"
   ]
  }
 ],
 "metadata": {
  "kernelspec": {
   "display_name": "Python 3 (ipykernel)",
   "language": "python",
   "name": "python3"
  },
  "language_info": {
   "codemirror_mode": {
    "name": "ipython",
    "version": 3
   },
   "file_extension": ".py",
   "mimetype": "text/x-python",
   "name": "python",
   "nbconvert_exporter": "python",
   "pygments_lexer": "ipython3",
   "version": "3.9.12"
  }
 },
 "nbformat": 4,
 "nbformat_minor": 5
}
